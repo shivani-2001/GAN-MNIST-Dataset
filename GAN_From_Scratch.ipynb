{
 "cells": [
  {
   "cell_type": "code",
   "execution_count": 1,
   "id": "78614845-47a0-4bf8-8b84-a7bcea5d8e9c",
   "metadata": {},
   "outputs": [],
   "source": [
    "import torch\n",
    "from torch import nn\n",
    "\n",
    "import math\n",
    "import matplotlib.pyplot as plt"
   ]
  },
  {
   "cell_type": "code",
   "execution_count": 2,
   "id": "8384f922-f924-4a9f-9861-716b9b2f48b5",
   "metadata": {},
   "outputs": [
    {
     "data": {
      "text/plain": [
       "<torch._C.Generator at 0x2ec5726a770>"
      ]
     },
     "execution_count": 2,
     "metadata": {},
     "output_type": "execute_result"
    }
   ],
   "source": [
    "torch.manual_seed(111)"
   ]
  },
  {
   "cell_type": "code",
   "execution_count": 3,
   "id": "18e15ef6-fea0-41cb-a501-a4dc089b314d",
   "metadata": {},
   "outputs": [],
   "source": [
    "train_data_length = 1024\n",
    "\n",
    "train_data = torch.zeros((train_data_length, 2))\n",
    "train_data[:, 0] = 2 * math.pi * torch.rand(train_data_length)\n",
    "train_data[:, 1] = torch.sin(train_data[:, 0])\n",
    "train_label = torch.zeros(train_data_length)\n",
    "\n",
    "train_set = [(train_data[i], train_label[i]) for i in range(train_data_length)]"
   ]
  },
  {
   "cell_type": "code",
   "execution_count": 4,
   "id": "b207d0c5",
   "metadata": {},
   "outputs": [
    {
     "data": {
      "text/plain": [
       "[(tensor([ 4.4960, -0.9767]), tensor(0.)),\n",
       " (tensor([ 5.7428, -0.5145]), tensor(0.)),\n",
       " (tensor([1.7710, 0.9800]), tensor(0.)),\n",
       " (tensor([1.6217, 0.9987]), tensor(0.)),\n",
       " (tensor([ 3.9654, -0.7337]), tensor(0.)),\n",
       " (tensor([ 3.7702, -0.5881]), tensor(0.)),\n",
       " (tensor([ 5.8509, -0.4190]), tensor(0.)),\n",
       " (tensor([1.3527, 0.9763]), tensor(0.)),\n",
       " (tensor([ 3.7905, -0.6043]), tensor(0.)),\n",
       " (tensor([ 4.6042, -0.9942]), tensor(0.))]"
      ]
     },
     "execution_count": 4,
     "metadata": {},
     "output_type": "execute_result"
    }
   ],
   "source": [
    "train_set[:10]"
   ]
  },
  {
   "cell_type": "code",
   "execution_count": 5,
   "id": "e90bdd37",
   "metadata": {},
   "outputs": [
    {
     "data": {
      "text/plain": [
       "[<matplotlib.lines.Line2D at 0x2ec5bd9c220>]"
      ]
     },
     "execution_count": 5,
     "metadata": {},
     "output_type": "execute_result"
    },
    {
     "data": {
      "image/png": "[encoded data removed]",
      "text/plain": [
       "<Figure size 640x480 with 1 Axes>"
      ]
     },
     "metadata": {},
     "output_type": "display_data"
    }
   ],
   "source": [
    "plt.plot(train_data[:, 0], train_data[:, 1], \".\")"
   ]
  },
  {
   "cell_type": "code",
   "execution_count": 6,
   "id": "4dbc4099",
   "metadata": {},
   "outputs": [],
   "source": [
    "batch_size = 32\n",
    "\n",
    "train_loader = torch.utils.data.DataLoader(train_set, batch_size=batch_size, shuffle=True)"
   ]
  },
  {
   "cell_type": "code",
   "execution_count": 7,
   "id": "89e5f62a",
   "metadata": {},
   "outputs": [],
   "source": [
    "class Discriminator(nn.Module):\n",
    "    def __init__(self):\n",
    "        super().__init__()\n",
    "        self.model = nn.Sequential(\n",
    "            nn.Linear(2, 256),\n",
    "            nn.ReLU(),\n",
    "            nn.Dropout(0.3),\n",
    "            nn.Linear(256, 128),\n",
    "            nn.ReLU(),\n",
    "            nn.Dropout(0.3),\n",
    "            nn.Linear(128, 64),\n",
    "            nn.ReLU(),\n",
    "            nn.Dropout(0.3),\n",
    "            nn.Linear(64, 1),\n",
    "            nn.Sigmoid()\n",
    "        )\n",
    "        \n",
    "    def forward(self, x):\n",
    "        output = self.model(x)\n",
    "        return output\n",
    "    \n"
   ]
  },
  {
   "cell_type": "code",
   "execution_count": 8,
   "id": "083a0f56",
   "metadata": {},
   "outputs": [
    {
     "data": {
      "text/plain": [
       "Discriminator(\n",
       "  (model): Sequential(\n",
       "    (0): Linear(in_features=2, out_features=256, bias=True)\n",
       "    (1): ReLU()\n",
       "    (2): Dropout(p=0.3, inplace=False)\n",
       "    (3): Linear(in_features=256, out_features=128, bias=True)\n",
       "    (4): ReLU()\n",
       "    (5): Dropout(p=0.3, inplace=False)\n",
       "    (6): Linear(in_features=128, out_features=64, bias=True)\n",
       "    (7): ReLU()\n",
       "    (8): Dropout(p=0.3, inplace=False)\n",
       "    (9): Linear(in_features=64, out_features=1, bias=True)\n",
       "    (10): Sigmoid()\n",
       "  )\n",
       ")"
      ]
     },
     "execution_count": 8,
     "metadata": {},
     "output_type": "execute_result"
    }
   ],
   "source": [
    "discriminator = Discriminator()\n",
    "discriminator"
   ]
  },
  {
   "cell_type": "code",
   "execution_count": 9,
   "id": "c156964c",
   "metadata": {},
   "outputs": [],
   "source": [
    "class Generator(nn.Module):\n",
    "    def __init__(self):\n",
    "        super().__init__()\n",
    "        self.model = nn.Sequential(\n",
    "            nn.Linear(2, 64),\n",
    "            nn.ReLU(),\n",
    "            nn.Linear(64, 128),\n",
    "            nn.ReLU(),\n",
    "            nn.Linear(128, 64),\n",
    "            nn.ReLU(),\n",
    "            nn.Linear(64, 2),\n",
    "        )\n",
    "        \n",
    "    def forward(self, x):\n",
    "        output = self.model(x)\n",
    "        return output\n",
    "    \n",
    "    "
   ]
  },
  {
   "cell_type": "code",
   "execution_count": 10,
   "id": "41dc777f",
   "metadata": {},
   "outputs": [
    {
     "data": {
      "text/plain": [
       "Generator(\n",
       "  (model): Sequential(\n",
       "    (0): Linear(in_features=2, out_features=64, bias=True)\n",
       "    (1): ReLU()\n",
       "    (2): Linear(in_features=64, out_features=128, bias=True)\n",
       "    (3): ReLU()\n",
       "    (4): Linear(in_features=128, out_features=64, bias=True)\n",
       "    (5): ReLU()\n",
       "    (6): Linear(in_features=64, out_features=2, bias=True)\n",
       "  )\n",
       ")"
      ]
     },
     "execution_count": 10,
     "metadata": {},
     "output_type": "execute_result"
    }
   ],
   "source": [
    "generator = Generator()\n",
    "generator"
   ]
  },
  {
   "cell_type": "markdown",
   "id": "4aecf739",
   "metadata": {},
   "source": [
    "### BCELoss\n",
    "\n",
    "Binary Cross Entropy Loss (BCE) is a commonly used loss function in binary classification tasks. It measures the difference between the predicted probabilities and the actual binary labels. It helps the model understand how far its predictions are from the true binary outcomes (0 or 1) and guides it to minimize this difference.\n",
    "\n",
    "$$\n",
    "\\text{BCE Loss} = - \\frac{1}{N} \\sum_{i=1}^{N} \\left[ y_i \\log(p_i) + (1 - y_i) \\log(1 - p_i) \\right]\n",
    "$$"
   ]
  },
  {
   "cell_type": "code",
   "execution_count": 11,
   "id": "557444b1",
   "metadata": {},
   "outputs": [],
   "source": [
    "lr = 0.001\n",
    "num_epochs = 1000\n",
    "loss_function = nn.BCELoss()"
   ]
  },
  {
   "cell_type": "code",
   "execution_count": 12,
   "id": "23bea8ef",
   "metadata": {},
   "outputs": [],
   "source": [
    "discriminator_optimizer = torch.optim.Adam(discriminator.parameters(), lr=lr)\n",
    "generator_optimizer = torch.optim.Adam(generator.parameters(), lr=lr)"
   ]
  },
  {
   "cell_type": "code",
   "execution_count": 13,
   "id": "293eceb0",
   "metadata": {},
   "outputs": [
    {
     "name": "stdout",
     "output_type": "stream",
     "text": [
      "Epoch: 0 Loss D.: 0.6061952710151672\n",
      "Epoch: 0 Loss G.: 1.442305564880371\n",
      "Epoch: 10 Loss D.: 0.5353243947029114\n",
      "Epoch: 10 Loss G.: 0.7068256139755249\n",
      "Epoch: 20 Loss D.: 0.7080711126327515\n",
      "Epoch: 20 Loss G.: 0.7180628180503845\n",
      "Epoch: 30 Loss D.: 0.7057681083679199\n",
      "Epoch: 30 Loss G.: 0.7880392074584961\n",
      "Epoch: 40 Loss D.: 0.6659220457077026\n",
      "Epoch: 40 Loss G.: 0.8903871178627014\n",
      "Epoch: 50 Loss D.: 0.700967013835907\n",
      "Epoch: 50 Loss G.: 0.6452773809432983\n",
      "Epoch: 60 Loss D.: 0.6829605102539062\n",
      "Epoch: 60 Loss G.: 0.8682596683502197\n",
      "Epoch: 70 Loss D.: 0.6928033828735352\n",
      "Epoch: 70 Loss G.: 0.6713805198669434\n",
      "Epoch: 80 Loss D.: 0.6948362588882446\n",
      "Epoch: 80 Loss G.: 0.6822545528411865\n",
      "Epoch: 90 Loss D.: 0.701011598110199\n",
      "Epoch: 90 Loss G.: 0.6971438527107239\n",
      "Epoch: 100 Loss D.: 0.6928802132606506\n",
      "Epoch: 100 Loss G.: 0.676943838596344\n",
      "Epoch: 110 Loss D.: 0.6979297399520874\n",
      "Epoch: 110 Loss G.: 0.7084340453147888\n",
      "Epoch: 120 Loss D.: 0.6898257732391357\n",
      "Epoch: 120 Loss G.: 0.7351680397987366\n",
      "Epoch: 130 Loss D.: 0.5741706490516663\n",
      "Epoch: 130 Loss G.: 1.458404779434204\n",
      "Epoch: 140 Loss D.: 0.7050548195838928\n",
      "Epoch: 140 Loss G.: 0.6425890326499939\n",
      "Epoch: 150 Loss D.: 0.6949964165687561\n",
      "Epoch: 150 Loss G.: 0.6972894072532654\n",
      "Epoch: 160 Loss D.: 0.6979663968086243\n",
      "Epoch: 160 Loss G.: 0.6788600087165833\n",
      "Epoch: 170 Loss D.: 0.6925625801086426\n",
      "Epoch: 170 Loss G.: 0.6785535216331482\n",
      "Epoch: 180 Loss D.: 0.6796841621398926\n",
      "Epoch: 180 Loss G.: 0.6895651817321777\n",
      "Epoch: 190 Loss D.: 0.6944366693496704\n",
      "Epoch: 190 Loss G.: 0.6756770610809326\n",
      "Epoch: 200 Loss D.: 0.6701772212982178\n",
      "Epoch: 200 Loss G.: 0.7656483054161072\n",
      "Epoch: 210 Loss D.: 0.684057354927063\n",
      "Epoch: 210 Loss G.: 0.7626128196716309\n",
      "Epoch: 220 Loss D.: 0.687027633190155\n",
      "Epoch: 220 Loss G.: 0.7013207674026489\n",
      "Epoch: 230 Loss D.: 0.6908066272735596\n",
      "Epoch: 230 Loss G.: 0.6869298219680786\n",
      "Epoch: 240 Loss D.: 0.6260737180709839\n",
      "Epoch: 240 Loss G.: 1.0327621698379517\n",
      "Epoch: 250 Loss D.: 0.6895003318786621\n",
      "Epoch: 250 Loss G.: 0.702768087387085\n",
      "Epoch: 260 Loss D.: 0.6901146173477173\n",
      "Epoch: 260 Loss G.: 0.69615638256073\n",
      "Epoch: 270 Loss D.: 0.671924352645874\n",
      "Epoch: 270 Loss G.: 0.6333335638046265\n",
      "Epoch: 280 Loss D.: 0.6488541960716248\n",
      "Epoch: 280 Loss G.: 0.9018495082855225\n",
      "Epoch: 290 Loss D.: 0.7078136801719666\n",
      "Epoch: 290 Loss G.: 0.8938068151473999\n",
      "Epoch: 300 Loss D.: 0.6978580951690674\n",
      "Epoch: 300 Loss G.: 0.7222992181777954\n",
      "Epoch: 310 Loss D.: 0.7023050785064697\n",
      "Epoch: 310 Loss G.: 0.771195650100708\n",
      "Epoch: 320 Loss D.: 0.706188976764679\n",
      "Epoch: 320 Loss G.: 0.6667351722717285\n",
      "Epoch: 330 Loss D.: 0.7040671706199646\n",
      "Epoch: 330 Loss G.: 0.708999752998352\n",
      "Epoch: 340 Loss D.: 0.698116660118103\n",
      "Epoch: 340 Loss G.: 0.7038513422012329\n",
      "Epoch: 350 Loss D.: 0.6166225075721741\n",
      "Epoch: 350 Loss G.: 0.8667907118797302\n",
      "Epoch: 360 Loss D.: 0.696952760219574\n",
      "Epoch: 360 Loss G.: 0.7533907890319824\n",
      "Epoch: 370 Loss D.: 0.697415828704834\n",
      "Epoch: 370 Loss G.: 0.8601688742637634\n",
      "Epoch: 380 Loss D.: 0.6774219870567322\n",
      "Epoch: 380 Loss G.: 0.8380356431007385\n",
      "Epoch: 390 Loss D.: 0.655915379524231\n",
      "Epoch: 390 Loss G.: 0.8188648223876953\n",
      "Epoch: 400 Loss D.: 0.6871231198310852\n",
      "Epoch: 400 Loss G.: 0.9133987426757812\n",
      "Epoch: 410 Loss D.: 0.7022103071212769\n",
      "Epoch: 410 Loss G.: 0.7087036371231079\n",
      "Epoch: 420 Loss D.: 0.6921866536140442\n",
      "Epoch: 420 Loss G.: 0.6958072185516357\n",
      "Epoch: 430 Loss D.: 0.6972038745880127\n",
      "Epoch: 430 Loss G.: 0.6916365027427673\n",
      "Epoch: 440 Loss D.: 0.6934216022491455\n",
      "Epoch: 440 Loss G.: 0.6938670873641968\n",
      "Epoch: 450 Loss D.: 0.6844940781593323\n",
      "Epoch: 450 Loss G.: 0.7529983520507812\n",
      "Epoch: 460 Loss D.: 0.698184609413147\n",
      "Epoch: 460 Loss G.: 0.7024835348129272\n",
      "Epoch: 470 Loss D.: 0.6110724210739136\n",
      "Epoch: 470 Loss G.: 0.9518828988075256\n",
      "Epoch: 480 Loss D.: 0.6605404019355774\n",
      "Epoch: 480 Loss G.: 0.7958612442016602\n",
      "Epoch: 490 Loss D.: 0.6506676077842712\n",
      "Epoch: 490 Loss G.: 0.724079430103302\n",
      "Epoch: 500 Loss D.: 0.6367162466049194\n",
      "Epoch: 500 Loss G.: 0.8033910393714905\n",
      "Epoch: 510 Loss D.: 0.6729329824447632\n",
      "Epoch: 510 Loss G.: 0.7654591798782349\n",
      "Epoch: 520 Loss D.: 0.6894966959953308\n",
      "Epoch: 520 Loss G.: 0.8020832538604736\n",
      "Epoch: 530 Loss D.: 0.7290811538696289\n",
      "Epoch: 530 Loss G.: 0.7276257872581482\n",
      "Epoch: 540 Loss D.: 0.693941593170166\n",
      "Epoch: 540 Loss G.: 0.6956800222396851\n",
      "Epoch: 550 Loss D.: 0.6910251975059509\n",
      "Epoch: 550 Loss G.: 0.6945738196372986\n",
      "Epoch: 560 Loss D.: 0.6924916505813599\n",
      "Epoch: 560 Loss G.: 0.6953434944152832\n",
      "Epoch: 570 Loss D.: 0.6887810230255127\n",
      "Epoch: 570 Loss G.: 0.6939469575881958\n",
      "Epoch: 580 Loss D.: 0.693519115447998\n",
      "Epoch: 580 Loss G.: 0.7019938826560974\n",
      "Epoch: 590 Loss D.: 0.6912343502044678\n",
      "Epoch: 590 Loss G.: 0.7002472281455994\n",
      "Epoch: 600 Loss D.: 0.7079843282699585\n",
      "Epoch: 600 Loss G.: 0.6813527941703796\n",
      "Epoch: 610 Loss D.: 0.6282343864440918\n",
      "Epoch: 610 Loss G.: 0.958174467086792\n",
      "Epoch: 620 Loss D.: 0.6316545605659485\n",
      "Epoch: 620 Loss G.: 0.8756244778633118\n",
      "Epoch: 630 Loss D.: 0.7236273288726807\n",
      "Epoch: 630 Loss G.: 0.6997155547142029\n",
      "Epoch: 640 Loss D.: 0.6980021595954895\n",
      "Epoch: 640 Loss G.: 0.7106823921203613\n",
      "Epoch: 650 Loss D.: 0.6944601535797119\n",
      "Epoch: 650 Loss G.: 0.6889662146568298\n",
      "Epoch: 660 Loss D.: 0.6918783187866211\n",
      "Epoch: 660 Loss G.: 0.7002929449081421\n",
      "Epoch: 670 Loss D.: 0.6813248991966248\n",
      "Epoch: 670 Loss G.: 0.6908576488494873\n",
      "Epoch: 680 Loss D.: 0.6970838308334351\n",
      "Epoch: 680 Loss G.: 0.6996564269065857\n",
      "Epoch: 690 Loss D.: 0.7414006590843201\n",
      "Epoch: 690 Loss G.: 1.109531283378601\n",
      "Epoch: 700 Loss D.: 0.6352087259292603\n",
      "Epoch: 700 Loss G.: 0.777263343334198\n",
      "Epoch: 710 Loss D.: 0.6992563605308533\n",
      "Epoch: 710 Loss G.: 0.7163058519363403\n",
      "Epoch: 720 Loss D.: 0.6878392100334167\n",
      "Epoch: 720 Loss G.: 0.7034608721733093\n",
      "Epoch: 730 Loss D.: 0.6853981614112854\n",
      "Epoch: 730 Loss G.: 0.698573887348175\n",
      "Epoch: 740 Loss D.: 0.6916545033454895\n",
      "Epoch: 740 Loss G.: 0.7043451070785522\n",
      "Epoch: 750 Loss D.: 0.6968796253204346\n",
      "Epoch: 750 Loss G.: 0.6963866353034973\n",
      "Epoch: 760 Loss D.: 0.6968181729316711\n",
      "Epoch: 760 Loss G.: 0.6944175362586975\n",
      "Epoch: 770 Loss D.: 0.6904637813568115\n",
      "Epoch: 770 Loss G.: 0.6895126700401306\n",
      "Epoch: 780 Loss D.: 0.6930926442146301\n",
      "Epoch: 780 Loss G.: 0.6951048970222473\n",
      "Epoch: 790 Loss D.: 0.6918863654136658\n",
      "Epoch: 790 Loss G.: 0.6935839653015137\n",
      "Epoch: 800 Loss D.: 0.5377740263938904\n",
      "Epoch: 800 Loss G.: 0.9867459535598755\n",
      "Epoch: 810 Loss D.: 0.6750259399414062\n",
      "Epoch: 810 Loss G.: 0.7107137441635132\n",
      "Epoch: 820 Loss D.: 0.7121766805648804\n",
      "Epoch: 820 Loss G.: 0.6659353971481323\n",
      "Epoch: 830 Loss D.: 0.6867110729217529\n",
      "Epoch: 830 Loss G.: 0.7088453769683838\n",
      "Epoch: 840 Loss D.: 0.6964215636253357\n",
      "Epoch: 840 Loss G.: 0.7164245247840881\n",
      "Epoch: 850 Loss D.: 0.6916566491127014\n",
      "Epoch: 850 Loss G.: 0.6958404779434204\n",
      "Epoch: 860 Loss D.: 0.6929439902305603\n",
      "Epoch: 860 Loss G.: 0.710304319858551\n",
      "Epoch: 870 Loss D.: 0.6898595094680786\n",
      "Epoch: 870 Loss G.: 0.6910305023193359\n",
      "Epoch: 880 Loss D.: 0.694796085357666\n",
      "Epoch: 880 Loss G.: 0.6887372732162476\n",
      "Epoch: 890 Loss D.: 0.6954224705696106\n",
      "Epoch: 890 Loss G.: 0.6959503889083862\n",
      "Epoch: 900 Loss D.: 0.692886233329773\n",
      "Epoch: 900 Loss G.: 0.6918067336082458\n",
      "Epoch: 910 Loss D.: 0.6868249773979187\n",
      "Epoch: 910 Loss G.: 0.6911696791648865\n",
      "Epoch: 920 Loss D.: 0.6914945840835571\n",
      "Epoch: 920 Loss G.: 0.6960720419883728\n",
      "Epoch: 930 Loss D.: 0.692653477191925\n",
      "Epoch: 930 Loss G.: 0.6863372921943665\n",
      "Epoch: 940 Loss D.: 0.6784265637397766\n",
      "Epoch: 940 Loss G.: 0.8285937905311584\n",
      "Epoch: 950 Loss D.: 0.6744446754455566\n",
      "Epoch: 950 Loss G.: 0.7167091965675354\n",
      "Epoch: 960 Loss D.: 0.7052185535430908\n",
      "Epoch: 960 Loss G.: 0.6906333565711975\n",
      "Epoch: 970 Loss D.: 0.6966418623924255\n",
      "Epoch: 970 Loss G.: 0.6981207132339478\n",
      "Epoch: 980 Loss D.: 0.6912184357643127\n",
      "Epoch: 980 Loss G.: 0.6821436882019043\n",
      "Epoch: 990 Loss D.: 0.6937058568000793\n",
      "Epoch: 990 Loss G.: 0.7018215656280518\n"
     ]
    }
   ],
   "source": [
    "for epoch in range(num_epochs):\n",
    "    for n, (real_samples, _) in enumerate(train_loader):\n",
    "        # Data for training the discriminator\n",
    "        real_samples_labels = torch.ones((batch_size, 1))\n",
    "        latent_samples = torch.randn((batch_size, 2))\n",
    "        \n",
    "        generated_samples = generator(latent_samples)\n",
    "        generated_samples_labels = torch.zeros((batch_size, 1))\n",
    "        \n",
    "        all_samples = torch.cat((real_samples, generated_samples))\n",
    "        all_samples_labels = torch.cat((real_samples_labels, generated_samples_labels))\n",
    "        \n",
    "        # Train the discriminator\n",
    "        discriminator.zero_grad()\n",
    "        output_discriminator = discriminator(all_samples)\n",
    "        \n",
    "        loss_discriminator = loss_function(output_discriminator, all_samples_labels)\n",
    "        loss_discriminator.backward()\n",
    "        discriminator_optimizer.step()\n",
    "        \n",
    "        \n",
    "        # Data for training the generator\n",
    "        latent_space_samples = torch.randn((batch_size, 2))\n",
    "        \n",
    "        # Train the generator\n",
    "        generator.zero_grad()\n",
    "        generated_samples = generator(latent_space_samples)\n",
    "        output_discriminator_generated = discriminator(generated_samples)\n",
    "        \n",
    "        loss_generator = loss_function(output_discriminator_generated, real_samples_labels)\n",
    "        loss_generator.backward()\n",
    "        generator_optimizer.step()\n",
    "        \n",
    "        if epoch % 10 == 0 and n == batch_size - 1:\n",
    "            print(f\"Epoch: {epoch} Loss D.: {loss_discriminator}\")\n",
    "            print(f\"Epoch: {epoch} Loss G.: {loss_generator}\")\n",
    "        \n",
    "        "
   ]
  },
  {
   "cell_type": "code",
   "execution_count": 14,
   "id": "d715fbfa",
   "metadata": {},
   "outputs": [],
   "source": [
    "latent_space_samples = torch.randn((500, 2))\n",
    "generated_samples = generator(latent_space_samples)\n",
    "generated_samples = generated_samples.detach()"
   ]
  },
  {
   "cell_type": "code",
   "execution_count": 15,
   "id": "cbde3a82",
   "metadata": {},
   "outputs": [
    {
     "data": {
      "text/plain": [
       "[<matplotlib.lines.Line2D at 0x2ec60bcb160>]"
      ]
     },
     "execution_count": 15,
     "metadata": {},
     "output_type": "execute_result"
    },
    {
     "data": {
      "image/png": "[encoded data removed]",
      "text/plain": [
       "<Figure size 640x480 with 1 Axes>"
      ]
     },
     "metadata": {},
     "output_type": "display_data"
    }
   ],
   "source": [
    "plt.plot(generated_samples[:, 0], generated_samples[:, 1], \".\")"
   ]
  }
 ],
 "metadata": {
  "kernelspec": {
   "display_name": "prac",
   "language": "python",
   "name": "python3"
  },
  "language_info": {
   "codemirror_mode": {
    "name": "ipython",
    "version": 3
   },
   "file_extension": ".py",
   "mimetype": "text/x-python",
   "name": "python",
   "nbconvert_exporter": "python",
   "pygments_lexer": "ipython3",
   "version": "3.10.15"
  }
 },
 "nbformat": 4,
 "nbformat_minor": 5
}
